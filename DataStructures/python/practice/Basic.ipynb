{
 "cells": [
  {
   "cell_type": "code",
   "execution_count": 13,
   "metadata": {},
   "outputs": [
    {
     "name": "stdout",
     "output_type": "stream",
     "text": [
      "Sum is 150\n"
     ]
    }
   ],
   "source": [
    "# Python program to find the sum of all elements of an array\n",
    "arr = [10, 20, 30, 40, 50]\n",
    "def sum1(arr:list)->int:\n",
    "    result=0\n",
    "    for i in arr:\n",
    "        result+=i\n",
    "    return result\n",
    "\n",
    "\n",
    "print('Sum is {}'.format(sum1(arr)))\n"
   ]
  },
  {
   "cell_type": "code",
   "execution_count": 16,
   "metadata": {},
   "outputs": [
    {
     "data": {
      "text/plain": [
       "3"
      ]
     },
     "execution_count": 16,
     "metadata": {},
     "output_type": "execute_result"
    }
   ],
   "source": [
    "# Python program to find the occurrence of a particular number in an array\n",
    "def cout_occurances(arr:list, num:int)->int:\n",
    "    count =0\n",
    "    for i in arr:\n",
    "        if i==num:\n",
    "            count+=1\n",
    "        else:\n",
    "            continue\n",
    "    return count\n",
    "\n",
    "cout_occurances([1, 3, 9, 3, 3], 3)\n",
    "\n",
    "\n"
   ]
  },
  {
   "cell_type": "code",
   "execution_count": 17,
   "metadata": {},
   "outputs": [
    {
     "data": {
      "text/plain": [
       "9"
      ]
     },
     "execution_count": 17,
     "metadata": {},
     "output_type": "execute_result"
    }
   ],
   "source": [
    "# Python program to find the largest element in an array\n",
    "def largest(arr):\n",
    "    lar = arr[0]\n",
    "    for i in range(1, len(arr)):\n",
    "        if arr[i]>lar:\n",
    "            lar=arr[i]\n",
    "    return lar\n",
    "largest([1,7,3,9,2])\n",
    "\n"
   ]
  },
  {
   "cell_type": "code",
   "execution_count": 32,
   "metadata": {},
   "outputs": [
    {
     "name": "stdout",
     "output_type": "stream",
     "text": [
      "[3, 4, 5, 1, 2]\n",
      "[6, 7, 1, 3, 4, 5]\n"
     ]
    }
   ],
   "source": [
    "# Python program for array rotation\n",
    "\n",
    "def rotateLeft(arr, n):\n",
    "    for i in range(n):\n",
    "        elem = arr[0]\n",
    "        for j in range(len(arr)-1):\n",
    "            arr[j]=arr[j+1]\n",
    "        arr[len(arr)-1]=elem\n",
    "    return arr\n",
    "print('{}'.format(rotateLeft([1,2,3,4,5],2)))\n",
    "\n",
    "\n",
    "def rotateRight(arr, n):\n",
    "    for i in range(n):\n",
    "        elem = arr[len(arr)-1]\n",
    "        for j in range(len(arr)-1, 0, -1):\n",
    "            arr[j]=arr[j-1]\n",
    "        arr[0]=elem\n",
    "    return arr\n",
    "\n",
    "print(\"{}\".format(rotateRight([1,3,4,5,6,7],2)))\n"
   ]
  },
  {
   "cell_type": "code",
   "execution_count": 40,
   "metadata": {},
   "outputs": [
    {
     "name": "stdout",
     "output_type": "stream",
     "text": [
      "2\n"
     ]
    }
   ],
   "source": [
    "# Python program to find remainder of array multiplication divided by divisor\n",
    "def prod(arr, n):\n",
    "    prodVal=1\n",
    "    for i in arr:\n",
    "        prodVal*=i\n",
    "    return (prodVal%n)\n",
    "\n",
    "\n",
    "\n",
    "lst = list(map(int, input().split()))\n",
    "n = int(input())\n",
    "\n",
    "print(prod(lst, n))\n"
   ]
  },
  {
   "cell_type": "code",
   "execution_count": 41,
   "metadata": {},
   "outputs": [
    {
     "name": "stdout",
     "output_type": "stream",
     "text": [
      "Union of the arrays: [2, 3, 4, 5, 6, 7, 41, 9, 78, -5, -1]\n",
      "intersection of the arrays: [3, 7]\n"
     ]
    }
   ],
   "source": [
    "# Find the union and intersection of two arrays in Python\n",
    "a=list(map(int,input('Enter elements of first list:').split()))\n",
    "b=list(map(int,input('Enter elements of second list:').split()))\n",
    "\n",
    "A=list(set(a)|set(b))\n",
    "B=list(set(a)&set(b))\n",
    "\n",
    "print('Union of the arrays:',A)\n",
    "print('intersection of the arrays:',B)"
   ]
  },
  {
   "cell_type": "code",
   "execution_count": 49,
   "metadata": {},
   "outputs": [
    {
     "name": "stdout",
     "output_type": "stream",
     "text": [
      "[[10, 20, 30, 40], [40, 50, 60, 50], [70, 80, 80, 60]]\n"
     ]
    }
   ],
   "source": [
    "mat = [\n",
    "  [10, 20, 30, 40],\n",
    "  [40, 50, 60, 50],\n",
    "  [70, 80, 80, 60]\n",
    "]\n",
    "print(mat)"
   ]
  },
  {
   "cell_type": "code",
   "execution_count": 56,
   "metadata": {},
   "outputs": [
    {
     "name": "stdout",
     "output_type": "stream",
     "text": [
      "10\t20\t30\t40\t\n",
      "40\t50\t60\t50\t\n",
      "70\t80\t80\t60\t\n"
     ]
    }
   ],
   "source": [
    "for i in range(len(mat)):\n",
    "    for j in range(len(mat[0])):\n",
    "        print(mat[i][j], end=\"\\t\")\n",
    "    print()"
   ]
  },
  {
   "cell_type": "code",
   "execution_count": null,
   "metadata": {},
   "outputs": [],
   "source": []
  },
  {
   "cell_type": "code",
   "execution_count": 59,
   "metadata": {},
   "outputs": [
    {
     "data": {
      "text/plain": [
       "['B', 'B', 'A', 'F', 'F', 'F', 'F']"
      ]
     },
     "execution_count": 59,
     "metadata": {},
     "output_type": "execute_result"
    }
   ],
   "source": [
    "marks= [56,77,88,45,2,27,44]\n",
    "grades = lambda x : ['A' if m>80 else 'B' if m>45 else 'F' for  m in x]\n",
    "grades(marks)"
   ]
  },
  {
   "cell_type": "code",
   "execution_count": 63,
   "metadata": {},
   "outputs": [
    {
     "data": {
      "text/plain": [
       "11.666666666666666"
      ]
     },
     "execution_count": 63,
     "metadata": {},
     "output_type": "execute_result"
    }
   ],
   "source": [
    "c = lambda f: (f-32)/1.8\n",
    "c(53)"
   ]
  },
  {
   "cell_type": "code",
   "execution_count": 77,
   "metadata": {},
   "outputs": [
    {
     "data": {
      "text/plain": [
       "66"
      ]
     },
     "execution_count": 77,
     "metadata": {},
     "output_type": "execute_result"
    }
   ],
   "source": [
    "# Python program to calculate the number of all possible substrings of a string\n",
    "\n",
    "def number_substrings(string):\n",
    "    substring = 0\n",
    "    n = len(string)\n",
    "    substr = []\n",
    "    for i in range(n):\n",
    "        for j in range(i, n):\n",
    "            substr.append(string[i:j])\n",
    "    substring=len(substr)\n",
    "    return substring\n",
    "\n",
    "number_substrings(\"IncludeHelp\")\n",
    "\n"
   ]
  },
  {
   "cell_type": "code",
   "execution_count": 81,
   "metadata": {},
   "outputs": [
    {
     "name": "stdout",
     "output_type": "stream",
     "text": [
      "erohsiK\n"
     ]
    }
   ],
   "source": [
    "#reverse\n",
    "string=\"Kishore\"\n",
    "length=len(string)\n",
    "print(string[::-1])\n",
    "\n"
   ]
  },
  {
   "cell_type": "code",
   "execution_count": 85,
   "metadata": {},
   "outputs": [
    {
     "data": {
      "text/plain": [
       "'erohsiK'"
      ]
     },
     "execution_count": 85,
     "metadata": {},
     "output_type": "execute_result"
    }
   ],
   "source": [
    "revStr=''\n",
    "for i in range(length-1, -1, -1):\n",
    "    revStr+=string[i]\n",
    "\n",
    "revStr"
   ]
  },
  {
   "cell_type": "code",
   "execution_count": 99,
   "metadata": {},
   "outputs": [
    {
     "data": {
      "text/plain": [
       "'erohsiK'"
      ]
     },
     "execution_count": 99,
     "metadata": {},
     "output_type": "execute_result"
    }
   ],
   "source": [
    "charArr = [x for x in string]\n",
    "for i in range(0, length//2):\n",
    "    temp = charArr[i]\n",
    "    charArr[i]=charArr[length-i-1]\n",
    "    charArr[length-i-1]=temp\n",
    "\"\".join(charArr)"
   ]
  },
  {
   "cell_type": "code",
   "execution_count": null,
   "metadata": {},
   "outputs": [],
   "source": []
  },
  {
   "cell_type": "code",
   "execution_count": null,
   "metadata": {},
   "outputs": [],
   "source": []
  }
 ],
 "metadata": {
  "kernelspec": {
   "display_name": "Python 3",
   "language": "python",
   "name": "python3"
  },
  "language_info": {
   "codemirror_mode": {
    "name": "ipython",
    "version": 3
   },
   "file_extension": ".py",
   "mimetype": "text/x-python",
   "name": "python",
   "nbconvert_exporter": "python",
   "pygments_lexer": "ipython3",
   "version": "3.11.0"
  }
 },
 "nbformat": 4,
 "nbformat_minor": 2
}
