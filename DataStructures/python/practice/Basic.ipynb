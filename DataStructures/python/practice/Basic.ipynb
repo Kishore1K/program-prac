{
 "cells": [
  {
   "cell_type": "code",
   "execution_count": 13,
   "metadata": {},
   "outputs": [
    {
     "name": "stdout",
     "output_type": "stream",
     "text": [
      "Sum is 150\n"
     ]
    }
   ],
   "source": [
    "# Python program to find the sum of all elements of an array\n",
    "arr = [10, 20, 30, 40, 50]\n",
    "def sum1(arr:list)->int:\n",
    "    result=0\n",
    "    for i in arr:\n",
    "        result+=i\n",
    "    return result\n",
    "\n",
    "\n",
    "print('Sum is {}'.format(sum1(arr)))\n"
   ]
  },
  {
   "cell_type": "code",
   "execution_count": 16,
   "metadata": {},
   "outputs": [
    {
     "data": {
      "text/plain": [
       "3"
      ]
     },
     "execution_count": 16,
     "metadata": {},
     "output_type": "execute_result"
    }
   ],
   "source": [
    "# Python program to find the occurrence of a particular number in an array\n",
    "def cout_occurances(arr:list, num:int)->int:\n",
    "    count =0\n",
    "    for i in arr:\n",
    "        if i==num:\n",
    "            count+=1\n",
    "        else:\n",
    "            continue\n",
    "    return count\n",
    "\n",
    "cout_occurances([1, 3, 9, 3, 3], 3)\n",
    "\n",
    "\n"
   ]
  },
  {
   "cell_type": "code",
   "execution_count": 17,
   "metadata": {},
   "outputs": [
    {
     "data": {
      "text/plain": [
       "9"
      ]
     },
     "execution_count": 17,
     "metadata": {},
     "output_type": "execute_result"
    }
   ],
   "source": [
    "# Python program to find the largest element in an array\n",
    "def largest(arr):\n",
    "    lar = arr[0]\n",
    "    for i in range(1, len(arr)):\n",
    "        if arr[i]>lar:\n",
    "            lar=arr[i]\n",
    "    return lar\n",
    "largest([1,7,3,9,2])\n",
    "\n"
   ]
  },
  {
   "cell_type": "code",
   "execution_count": 31,
   "metadata": {},
   "outputs": [
    {
     "name": "stdout",
     "output_type": "stream",
     "text": [
      "[6, 7, 1, 3, 4, 5]\n"
     ]
    }
   ],
   "source": [
    "# Python program for array rotation\n",
    "\n",
    "def rotateLeft(arr, n):\n",
    "    for i in range(n):\n",
    "        elem = arr[0]\n",
    "        for j in range(len(arr)-1):\n",
    "            arr[j]=arr[j+1]\n",
    "        arr[len(arr)-1]=elem\n",
    "    return arr\n",
    "rotateLeft([1,2,3,4,5],2)\n",
    "\n",
    "\n",
    "def rotateRight(arr, n):\n",
    "    for i in range(n):\n",
    "        elem = arr[len(arr)-1]\n",
    "        for j in range(len(arr)-1, 0, -1):\n",
    "            arr[j]=arr[j-1]\n",
    "        arr[0]=elem\n",
    "    return arr\n",
    "\n",
    "print(rotateRight([1,3,4,5,6,7],2))\n"
   ]
  },
  {
   "cell_type": "code",
   "execution_count": null,
   "metadata": {},
   "outputs": [],
   "source": []
  }
 ],
 "metadata": {
  "kernelspec": {
   "display_name": "Python 3",
   "language": "python",
   "name": "python3"
  },
  "language_info": {
   "codemirror_mode": {
    "name": "ipython",
    "version": 3
   },
   "file_extension": ".py",
   "mimetype": "text/x-python",
   "name": "python",
   "nbconvert_exporter": "python",
   "pygments_lexer": "ipython3",
   "version": "3.11.0"
  }
 },
 "nbformat": 4,
 "nbformat_minor": 2
}
